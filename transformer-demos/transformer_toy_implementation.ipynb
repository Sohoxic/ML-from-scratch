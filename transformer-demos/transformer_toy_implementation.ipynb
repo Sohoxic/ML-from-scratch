{
 "cells": [
  {
   "cell_type": "code",
   "execution_count": 4,
   "id": "f399dc16",
   "metadata": {},
   "outputs": [
    {
     "name": "stdout",
     "output_type": "stream",
     "text": [
      "Hidden vector h: tensor([[ 0.3000, -0.1000,  0.9000,  0.0500]])\n",
      "\n",
      "Weight matrix W:\n",
      " tensor([[ 0.2000,  0.5000, -0.3000,  0.1000],\n",
      "        [-0.4000,  0.1000,  0.7000,  0.2000],\n",
      "        [ 0.3000, -0.2000,  0.6000, -0.5000]])\n",
      "\n",
      "Bias b: tensor([ 0.1000, -0.2000,  0.0500])\n",
      "\n",
      "Logits: tensor([[-0.1550,  0.3100,  0.6750]])\n",
      "\n",
      "Probabilities: tensor([[0.2047, 0.3259, 0.4694]])\n",
      "Sum of probs: 1.0\n"
     ]
    }
   ],
   "source": [
    "import torch\n",
    "\n",
    "# Hidden vector for one token\n",
    "h = torch.tensor([[0.3, -0.1, 0.9, 0.05]])  # shape [1, 4]\n",
    "\n",
    "# Weight matrix W (each row = word vector)\n",
    "W = torch.tensor([\n",
    "    [0.2, 0.5, -0.3, 0.1],   # word1\n",
    "    [-0.4, 0.1, 0.7, 0.2],   # word2\n",
    "    [0.3, -0.2, 0.6, -0.5]   # word3\n",
    "])  # shape [3, 4]\n",
    "\n",
    "# Bias for each word\n",
    "b = torch.tensor([0.1, -0.2, 0.05])  # shape [3]\n",
    "\n",
    "# Compute logits manually (dot product + bias)\n",
    "logits = h @ W.T + b   # [1, 3]\n",
    "\n",
    "print(\"Hidden vector h:\", h)\n",
    "print(\"\\nWeight matrix W:\\n\", W)\n",
    "print(\"\\nBias b:\", b)\n",
    "print(\"\\nLogits:\", logits)\n",
    "\n",
    "# Apply softmax to get probabilities\n",
    "probs = torch.softmax(logits, dim=-1)\n",
    "print(\"\\nProbabilities:\", probs)\n",
    "print(\"Sum of probs:\", probs.sum().item())"
   ]
  }
 ],
 "metadata": {
  "kernelspec": {
   "display_name": ".venv",
   "language": "python",
   "name": "python3"
  },
  "language_info": {
   "codemirror_mode": {
    "name": "ipython",
    "version": 3
   },
   "file_extension": ".py",
   "mimetype": "text/x-python",
   "name": "python",
   "nbconvert_exporter": "python",
   "pygments_lexer": "ipython3",
   "version": "3.12.11"
  }
 },
 "nbformat": 4,
 "nbformat_minor": 5
}
